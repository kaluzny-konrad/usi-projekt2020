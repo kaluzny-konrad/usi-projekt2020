{
 "metadata": {
  "language_info": {
   "codemirror_mode": {
    "name": "ipython",
    "version": 3
   },
   "file_extension": ".py",
   "mimetype": "text/x-python",
   "name": "python",
   "nbconvert_exporter": "python",
   "pygments_lexer": "ipython3",
   "version": "3.8.3-final"
  },
  "orig_nbformat": 2,
  "kernelspec": {
   "name": "python3",
   "display_name": "Python 3",
   "language": "python"
  }
 },
 "nbformat": 4,
 "nbformat_minor": 2,
 "cells": [
  {
   "cell_type": "code",
   "execution_count": 9,
   "metadata": {},
   "outputs": [],
   "source": [
    "\"\"\"Obsługa bazy punktów i recenzji.\"\"\"\n",
    "from database import Database\n",
    "from datetime import timezone, datetime\n",
    "from database_reviews_and_stars import DatabaseReviewsAndStars\n",
    "import settings\n",
    "import csv\n",
    "from pathlib import Path\n",
    "import pandas as pd"
   ]
  },
  {
   "cell_type": "code",
   "execution_count": 88,
   "metadata": {},
   "outputs": [],
   "source": [
    "database = pd.read_csv(\n",
    "        Path('database_pre/reviews.csv'), \n",
    "        sep=',',\n",
    "        usecols=['userId', 'movieId', 'review', 'timestamp'])"
   ]
  },
  {
   "cell_type": "code",
   "execution_count": 66,
   "metadata": {},
   "outputs": [],
   "source": []
  },
  {
   "cell_type": "code",
   "execution_count": 89,
   "metadata": {},
   "outputs": [
    {
     "output_type": "stream",
     "name": "stdout",
     "text": [
      "[]\n"
     ]
    }
   ],
   "source": [
    "row_to_delete = database.loc[\n",
    "    database['userId'] == 1].loc[\n",
    "    database['movieId'] == 1]\n",
    "\n",
    "review_to_drop = []\n",
    "for row in row_to_delete.values:\n",
    "    for value in row:\n",
    "        review_to_drop.append(str(value))\n",
    "\n",
    "print(review_to_drop)"
   ]
  },
  {
   "cell_type": "code",
   "execution_count": 90,
   "metadata": {},
   "outputs": [],
   "source": [
    "lines = list()\n",
    "with open('database_pre/reviews.csv', mode='r') as database_reviews:\n",
    "    reader = csv.reader(database_reviews)\n",
    "    for row in reader:\n",
    "        lines.append(row)\n",
    "        if row == review_to_drop:\n",
    "            lines.remove(row)\n",
    "            \n",
    "with open('database_pre/reviews.csv', mode='w') as database_reviews:\n",
    "    writer = csv.writer(database_reviews)\n",
    "    writer.writerows(lines)"
   ]
  },
  {
   "cell_type": "code",
   "execution_count": 47,
   "metadata": {},
   "outputs": [
    {
     "output_type": "execute_result",
     "data": {
      "text/plain": [
       "'1,1,good movie :),1608374715'"
      ]
     },
     "metadata": {},
     "execution_count": 47
    }
   ],
   "source": [
    "review_string"
   ]
  },
  {
   "cell_type": "code",
   "execution_count": null,
   "metadata": {},
   "outputs": [],
   "source": []
  }
 ]
}